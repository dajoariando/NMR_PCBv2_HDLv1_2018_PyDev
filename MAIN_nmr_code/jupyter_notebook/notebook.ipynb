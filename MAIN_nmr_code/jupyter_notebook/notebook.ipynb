{
 "cells": [
  {
   "cell_type": "code",
   "execution_count": 1,
   "metadata": {
    "scrolled": true
   },
   "outputs": [],
   "source": [
    "from sympy import Eq, symbols,pprint,sqrt,nonlinsolve,linsolve,solveset,Eq\n",
    "import numpy as np\n",
    "\n",
    "def realZ ( L, RL, CL, Cp, f0 ):\n",
    "    w0 = 2 * np.pi * f0\n",
    "    Ct = CL + Cp\n",
    "    return RL / ( ( 1 - w0 ** 2 * L * Ct ) ** 2 + ( w0 * RL * Ct ) ** 2 )\n",
    "\n",
    "def imagZ ( L, RL, CL, Cp, Cs, f0 ):\n",
    "    w0 = 2 * np.pi * f0\n",
    "    Ct = CL + Cp\n",
    "    return 1j * w0 * ( L - w0 ** 2 * L ** 2 * Cp - RL ** 2 * Cp ) / ( ( 1 - w0 ** 2 * L * Cp ) ** 2 + ( w0 * RL * Cp ) ** 2 ) + 1 / 1j * w0 * Cs\n",
    "\n",
    "\n",
    "L = symbols('L')\n",
    "Cp = 8.99e-10\n",
    "Cs = 2.49e-10\n",
    "f0 = 4.2e6\n",
    "RL = 0.1"
   ]
  },
  {
   "cell_type": "code",
   "execution_count": 7,
   "metadata": {},
   "outputs": [
    {
     "data": {
      "text/latex": [
       "$\\displaystyle - 0.00657095519424841 i + \\frac{26389378.2901543 i \\left(- 626062.958600238 L^{2} + L - 8.99 \\cdot 10^{-12}\\right)}{391954828131.283 \\left(1.59728344611829 \\cdot 10^{-6} - L\\right)^{2} + 5.62830599781614 \\cdot 10^{-6}} = 0$"
      ],
      "text/plain": [
       "Eq(-0.00657095519424841*I + 26389378.2901543*I*(-626062.958600238*L**2 + L - 8.99e-12)/(391954828131.283*(1.59728344611829e-6 - L)**2 + 5.62830599781614e-6), 0)"
      ]
     },
     "execution_count": 7,
     "metadata": {},
     "output_type": "execute_result"
    }
   ],
   "source": [
    "f = Eq( realZ ( L, RL, 0, Cp, f0 ), 50 )\n",
    "g = Eq( imagZ ( L, RL, 0, Cp, Cs, f0 ), 0 )"
   ]
  },
  {
   "cell_type": "code",
   "execution_count": 9,
   "metadata": {},
   "outputs": [
    {
     "data": {
      "text/latex": [
       "$\\displaystyle \\frac{0.1}{391954828131.283 \\left(1.59728344611829 \\cdot 10^{-6} - L\\right)^{2} + 5.62830599781614 \\cdot 10^{-6}} = 50$"
      ],
      "text/plain": [
       "Eq(0.1/(391954828131.283*(1.59728344611829e-6 - L)**2 + 5.62830599781614e-6), 50)"
      ]
     },
     "execution_count": 9,
     "metadata": {},
     "output_type": "execute_result"
    }
   ],
   "source": [
    "f"
   ]
  },
  {
   "cell_type": "code",
   "execution_count": 10,
   "metadata": {},
   "outputs": [
    {
     "data": {
      "text/latex": [
       "$\\displaystyle - 0.00657095519424841 i + \\frac{26389378.2901543 i \\left(- 626062.958600238 L^{2} + L - 8.99 \\cdot 10^{-12}\\right)}{391954828131.283 \\left(1.59728344611829 \\cdot 10^{-6} - L\\right)^{2} + 5.62830599781614 \\cdot 10^{-6}} = 0$"
      ],
      "text/plain": [
       "Eq(-0.00657095519424841*I + 26389378.2901543*I*(-626062.958600238*L**2 + L - 8.99e-12)/(391954828131.283*(1.59728344611829e-6 - L)**2 + 5.62830599781614e-6), 0)"
      ]
     },
     "execution_count": 10,
     "metadata": {},
     "output_type": "execute_result"
    }
   ],
   "source": [
    "g"
   ]
  },
  {
   "cell_type": "code",
   "execution_count": 5,
   "metadata": {},
   "outputs": [],
   "source": [
    "ans = solveset( f, L  )"
   ]
  },
  {
   "cell_type": "code",
   "execution_count": 6,
   "metadata": {},
   "outputs": [
    {
     "data": {
      "text/latex": [
       "$\\displaystyle \\left\\{1.52595134088995 \\cdot 10^{-6}, 1.66861555134663 \\cdot 10^{-6}\\right\\}$"
      ],
      "text/plain": [
       "FiniteSet(1.52595134088995e-6, 1.66861555134663e-6)"
      ]
     },
     "execution_count": 6,
     "metadata": {},
     "output_type": "execute_result"
    }
   ],
   "source": [
    "ans"
   ]
  },
  {
   "cell_type": "code",
   "execution_count": 11,
   "metadata": {},
   "outputs": [],
   "source": [
    "ans = solveset(g,L)"
   ]
  },
  {
   "cell_type": "code",
   "execution_count": 12,
   "metadata": {},
   "outputs": [
    {
     "data": {
      "text/latex": [
       "$\\displaystyle \\left\\{2.57952641591558 \\cdot 10^{-10}, 1.59727445466622 \\cdot 10^{-6}\\right\\}$"
      ],
      "text/plain": [
       "FiniteSet(2.57952641591558e-10, 1.59727445466622e-6)"
      ]
     },
     "execution_count": 12,
     "metadata": {},
     "output_type": "execute_result"
    }
   ],
   "source": [
    "ans"
   ]
  },
  {
   "cell_type": "code",
   "execution_count": null,
   "metadata": {},
   "outputs": [],
   "source": []
  }
 ],
 "metadata": {
  "kernelspec": {
   "display_name": "Python 3",
   "language": "python",
   "name": "python3"
  },
  "language_info": {
   "codemirror_mode": {
    "name": "ipython",
    "version": 3
   },
   "file_extension": ".py",
   "mimetype": "text/x-python",
   "name": "python",
   "nbconvert_exporter": "python",
   "pygments_lexer": "ipython3",
   "version": "3.7.3"
  }
 },
 "nbformat": 4,
 "nbformat_minor": 4
}
